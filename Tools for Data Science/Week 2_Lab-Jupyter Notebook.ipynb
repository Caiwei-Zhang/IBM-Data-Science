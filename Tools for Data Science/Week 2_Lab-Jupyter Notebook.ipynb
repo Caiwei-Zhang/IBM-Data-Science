{
 "cells": [
  {
   "cell_type": "markdown",
   "metadata": {
    "tags": []
   },
   "source": [
    "<center>\n",
    "    <img src=\"https://s3-api.us-geo.objectstorage.softlayer.net/cf-courses-data/CognitiveClass/Logos/organization_logo/organization_logo.png\" width=\"300\" alt=\"cognitiveclass.ai logo\"  />\n",
    "</center>\n"
   ]
  },
  {
   "cell_type": "markdown",
   "metadata": {
    "tags": []
   },
   "source": [
    "#### Add your code below following the instructions given in the course\n"
   ]
  },
  {
   "cell_type": "markdown",
   "metadata": {},
   "source": [
    "# Week 2: Lab - Jupyter Notebook and JupyterLab\n",
    "\n",
    "## 1. Lab - Jupyter Notebook - The Basics \n",
    "\n",
    "**Exercise 1 - Create a new notebook in Python**\n",
    "\n",
    "In the next section click on Open Tool to access the Skills Network virtual lab environment.\n",
    "\n",
    "**Exercise 2 - Write and execute code**\n",
    "\n",
    "In your new empty notebook (from Exercise 1), click within the gray code cell and write some code, like 1 + 1.\n",
    "\n",
    "Execute the code, by either clicking the Play button in the menu above the notebook, or by pressing Shift+Enter on your notebook.\n",
    "\n",
    "You should see in the output, 2.\n",
    "\n",
    "Try executing other code (try simple math operations).\n",
    "\n",
    "Great! Now you know how to write and run code in Jupyter Notebooks."
   ]
  },
  {
   "cell_type": "code",
   "execution_count": 2,
   "metadata": {},
   "outputs": [
    {
     "name": "stdout",
     "output_type": "stream",
     "text": [
      "hello, world!\n"
     ]
    }
   ],
   "source": [
    "print(\"hello, world!\")"
   ]
  },
  {
   "cell_type": "code",
   "execution_count": 3,
   "metadata": {},
   "outputs": [
    {
     "data": {
      "text/plain": [
       "2"
      ]
     },
     "execution_count": 3,
     "metadata": {},
     "output_type": "execute_result"
    }
   ],
   "source": [
    "1+1"
   ]
  },
  {
   "cell_type": "code",
   "execution_count": 5,
   "metadata": {},
   "outputs": [
    {
     "name": "stdout",
     "output_type": "stream",
     "text": [
      "[1, 3, 5]\n"
     ]
    }
   ],
   "source": [
    "a = [1, 3, 5]\n",
    "print(a)"
   ]
  },
  {
   "cell_type": "markdown",
   "metadata": {},
   "source": [
    "**Exercise 4 - Create Markdown cells and add text**\n",
    "\n",
    "In your notebook, click on any code cell, and in the drop-down menu in the menu above, change the cell type from Code to Markdown. As you'll notice, you cannot create Markdown cells without first creating cells and converting them from Code to Markdown.\n",
    "\n",
    "In the Markdown cell, write some text like My Title.\n",
    "\n",
    "To render the Markdown text, make sure the cell is selected (by clicking within it), and press Play in the menu, or Shift+Enter.\n",
    "\n",
    "Your Markdown cell should now be rendered!\n",
    "\n",
    "To edit your Markdown cell, double-click anywhere within the cell. Note you can use the keyboard shortcut: [m] - Convert Cell to Markdown"
   ]
  },
  {
   "cell_type": "markdown",
   "metadata": {},
   "source": [
    "## 2. Lab - Jupyter Notebook - More Features\n",
    "\n",
    "### Objective\n",
    "In this hands-on lab you will learn how to create a different markdown cells.\n",
    "\n",
    "**This lab is a continuation of the previous lab.**\n",
    "\n",
    "**Note:** If you have JupyterLab on Skills Network Labs open in a tab already, continue using that tab. Otherwise, click on Open Tool button in the next section to launch JupyterLab environment.\n",
    "\n",
    "**Exercise 5 - Rename your Notebook**\n",
    "\n",
    "In the list of notebooks in the right-hand panel, click on the File at the top to expand the list of options.\n",
    "\n",
    "Click on Rename Notebook... to rename your notebook to something like My_Notebook.ipynb.\n",
    "\n",
    "\n",
    "**Exercise 6 - Save and Download your Jupyter Notebook from Skills Network Labs to your computer**\n",
    "\n",
    "Although your notebooks and data is preserved in your account after signing out, sometimes you may want to download your notebook to your computer.\n",
    "\n",
    "To save, click on the Save Notebook or Save Notebook as button in the File menu.\n",
    "\n",
    "To download the notebook, click on the File and scroll down to Download to download the notebook. You can also right-click on the notebook in the file browser pane and click Download.\n",
    "\n",
    "**Exercise 7 - Upload a Jupyter Notebook to Skills Network Labs**\n",
    "\n",
    "To upload a Jupyter Notebook from your computer to Skills Network Labs, drag and drop a .ipynb file from your computer directly into the browser. You can use the notebook you downloaded from Exercise 6.\n",
    "\n",
    "Your notebook should open up automatically once it has finished uploading.\n",
    "\n",
    "**Exercise 8 - Change your kernel (to Python 3, R) in JupyterLab\n",
    "\n",
    "With a notebook open, click on the kernel name (e.g., Python 3) in the top-righthand corner of the notebook to open up a pop-up window to change it to a different language."
   ]
  },
  {
   "cell_type": "code",
   "execution_count": 1,
   "metadata": {},
   "outputs": [
    {
     "name": "stdout",
     "output_type": "stream",
     "text": [
      "[[1]]\n",
      "[1] 1\n",
      "\n",
      "[[2]]\n",
      "[1] 3\n",
      "\n",
      "[[3]]\n",
      "[1] 5\n",
      "\n"
     ]
    }
   ],
   "source": [
    "b <- list(1, 3, 5)\n",
    "print(b)"
   ]
  },
  {
   "cell_type": "markdown",
   "metadata": {},
   "source": [
    "## 3. Lab - Jupyter Notebook - Advanced Features\n",
    "### Objective\n",
    "In this hands-on lab you will learn how to create a different markdown cells.\n",
    "\n",
    "**This lab is a continuation of the previous lab.**\n",
    "\n",
    "**Exercise 9 - Advanced Markdown styling**\n",
    "\n",
    "To get start using the Markdown feature, click on the drop-down menu at the top and click on Markdown.\n",
    "\n",
    "You can write HTML code in your Markdown cells. We can embed links, try executing the following HTML code in a Markdown cell: [Cognitive Class](https://www.cognitiveclass.ai) by right-clicking and opening in a new tab. You should now see a hyperlink to https://www.cognitiveclass.ai that appears as Cognitive Class.\n",
    "\n",
    "You can also use Markdown formatting. For example, to use an H1 Header to write a title, try running the following in a Markdown cell: # Header 1. You can find more rules for Markdown formatting in this Markdown Cheatsheet: https://github.com/adam-p/markdown-here/wiki/Markdown-Cheatsheet\n",
    "\n",
    "You can also create HTML tables. To create a table like this,\n",
    "\n",
    "| header | header |\n",
    "| ------ | ------ |\n",
    "| cell | cell |\n",
    "\n",
    "you can do that by doing the following:\n",
    "\\\n",
    "| header | header |\n",
    "\\\n",
    "| ------ | ------ |\n",
    "\\\n",
    "| cell | cell |\n",
    "\n"
   ]
  },
  {
   "cell_type": "markdown",
   "metadata": {},
   "source": [
    "**Exercise 10 - Advanced Markdown styling: Create tables**\n",
    "\n",
    "Using only Markdown, try creating a table with three columns and four rows.\n",
    "\n",
    "| name | age | gender |\n",
    "| ---  | --- | --- | \n",
    "| Jane | 10 | F |\n",
    "| Jake | 11 | M |\n",
    "| Selina | 9 | F |"
   ]
  },
  {
   "cell_type": "markdown",
   "metadata": {},
   "source": [
    "## 4. Jupyter Notebooks on the Internet\n",
    "\n",
    "There are thousands of interesting jupyter notebooks available on the internet for you to learn from. One of the best sources is: https://github.com/jupyter/jupyter/wiki/A-gallery-of-interesting-Jupyter-Notebooks\n",
    "\n",
    "It is important to notice that you can download such notebooks to your local computer or import them to a cloud based notebook tool so that you can rerun, modify and follow along what's explained in the notebook.\n",
    "\n",
    "Very often jupyter notebook are already shared in a rendered view. This means, that you can look at them as if they were running locally on you machine. But sometimes, folks only share a link to the jupyter file (which you can make out by the *.ipynb extention). In this case you can just grab the URL to that file and past it to the NB-Viewer => https://nbviewer.jupyter.org/\n",
    "\n",
    "The list above gives you a very nice start with a huge collection of materials to explore. Therefore it’s maybe more useful to give you some pointers to interesting notebooks. As we have covered some toy examples with toy data in the labs, let me just point to some work which uses these data and goes further down the road of data science. In addition, as we’ve covered the different tasks in data science we’ll also provide an exemplar notebook for each of those.\n",
    "\n",
    "First you start with exploratory data analysis, so this notebook is highly recommended to have a look at: https://nbviewer.jupyter.org/github/Tanu-N-Prabhu/Python/blob/master/Exploratory_data_Analysis.ipynb\n",
    "\n",
    "For data integration / cleansing at a smaller scale, the python library pandas is often used. Please have a look at this notebook: https://towardsdatascience.com/data-cleaning-with-python-using-pandas-library-c6f4a68ea8eb\n",
    "\n",
    "If you want to already experience what clustering is, have a look at this: https://nbviewer.jupyter.org/github/temporaer/tutorial_ml_gkbionics/blob/master/2%20-%20KMeans.ipynb\n",
    "\n",
    "And finally, if you want to go for a more in-depth notebook on the iris dataset have a look here: https://www.kaggle.com/lalitharajesh/iris-dataset-exploratory-data-analysis"
   ]
  },
  {
   "cell_type": "code",
   "execution_count": null,
   "metadata": {},
   "outputs": [],
   "source": []
  }
 ],
 "metadata": {
  "kernelspec": {
   "display_name": "R",
   "language": "R",
   "name": "conda-env-r-r"
  },
  "language_info": {
   "codemirror_mode": "r",
   "file_extension": ".r",
   "mimetype": "text/x-r-source",
   "name": "R",
   "pygments_lexer": "r",
   "version": "3.5.1"
  }
 },
 "nbformat": 4,
 "nbformat_minor": 4
}
