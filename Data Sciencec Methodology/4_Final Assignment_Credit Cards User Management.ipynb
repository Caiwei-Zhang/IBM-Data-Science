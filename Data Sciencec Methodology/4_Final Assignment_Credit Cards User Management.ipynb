{
 "cells": [
  {
   "cell_type": "markdown",
   "id": "c1613f81-c678-417e-acb3-0b52e6e97ea6",
   "metadata": {},
   "source": [
    "# Credit Cards User Management\n",
    "\n",
    "Which topic did you choose to apply the data science methodology to? (2 marks)"
   ]
  },
  {
   "cell_type": "markdown",
   "id": "f9f10332-87a9-4750-aeb8-cf2acd7f8e47",
   "metadata": {},
   "source": [
    "**Answer:** Credit Cards"
   ]
  },
  {
   "cell_type": "markdown",
   "id": "b752ff7b-9a7e-40c1-a436-aba9d381f1eb",
   "metadata": {},
   "source": [
    "Next, you will play the role of the client and the data scientist. \n",
    "\n",
    "Using the topic that you selected, complete the Business Understanding stage by coming up with a problem that you would like to solve and phrasing it in the form of a question that you will use data to answer. (3 marks)\n",
    "\n",
    "You are required to:\n",
    "\n",
    "Describe the problem, related to the topic you selected.\n",
    "Phrase the problem as a question to be answered using data.\n",
    "For example, using the food recipes use case discussed in the labs, the question that we defined was, \"Can we automatically determine the cuisine of a given dish based on its ingredients?\"."
   ]
  },
  {
   "cell_type": "markdown",
   "id": "acfbfae6-3d9b-4f51-b949-f772963f4750",
   "metadata": {},
   "source": [
    "- **Problem:** Automatically identify the defaulting users of credit cards.\n",
    "- **Question:** Can we forecast whether credit card users will default based on the transaction data of their accounts ?\n"
   ]
  },
  {
   "cell_type": "markdown",
   "id": "8fdb986e-8e84-4e74-9d8c-de0d830a1008",
   "metadata": {},
   "source": [
    "Briefly explain how you would complete each of the following stages for the problem that you described in the Business Understanding stage, so that you are ultimately able to answer the question that you came up with. (5 marks):\n",
    "\n",
    "- Analytic Approach\n",
    "- Data Requirements\n",
    "- Data Collection\n",
    "- Data Understanding and Preparation\n",
    "- Modeling and Evaluation\n",
    "\n",
    "You can always refer to the labs as a reference with describing how you would complete each stage for your problem."
   ]
  },
  {
   "cell_type": "markdown",
   "id": "87fc7666-80eb-494e-8c92-4d4fdf999800",
   "metadata": {},
   "source": [
    "<details><summary>Click here to see my answer.</summary>\n",
    "\n",
    "### Analytic Approach\n",
    "\n",
    "  We regard the business question as a binary classification problem. Consider to use machine learning algorithms with excellent performance in Kaggle competitions, like XGBoost, LightGBM.\n",
    "\n",
    "### Data requirements\n",
    "\n",
    "  We need the data from three aspects,  demographic information, socioeconomic information, and transaction information.\n",
    "\n",
    "### Data Collection\n",
    " - The demographic data :\n",
    " a. the basic information in the application for credit cards.  \n",
    " b. purchase personal and household information from a third party (legal).\n",
    "\n",
    " - socioeconomic data \n",
    " a. The employment information and income from the application of credit cards, loans, or bank accounts.\n",
    "\n",
    " - transaction data\n",
    " a. the transaction records of one's accounts. Convert the records data into the form that one user corresponding to one line of data.\n",
    "\n",
    "### Data Understanding and Preparation\n",
    "  a. Check the format of each column. Make sure the type of data is correct.   \n",
    "  b. Learn about the Statistics and distribution for each column (combined with Data Visualization).   \n",
    "  c. Discover the missing or invalid data.  \n",
    "  c. Discover outliers. Revise the abnormal values.  \n",
    "  d. Correlation analysis.  \n",
    "  e. Feature engineering.\n",
    "\n",
    "### Modeling and Evaluation\n",
    "  a. Build model by LightGBM with default parameters. Evaluating model by macro-F1 score.  \n",
    "  b. Tuning parameters, redeploying model, and do evaluation. Skip to the Data Preparation step if necessary. \n",
    "</details>"
   ]
  },
  {
   "cell_type": "code",
   "execution_count": null,
   "id": "01dcf912-59ce-4c19-afc7-7a972f6dc0ed",
   "metadata": {},
   "outputs": [],
   "source": []
  }
 ],
 "metadata": {
  "kernelspec": {
   "display_name": "Python",
   "language": "python",
   "name": "conda-env-python-py"
  },
  "language_info": {
   "codemirror_mode": {
    "name": "ipython",
    "version": 3
   },
   "file_extension": ".py",
   "mimetype": "text/x-python",
   "name": "python",
   "nbconvert_exporter": "python",
   "pygments_lexer": "ipython3",
   "version": "3.6.13"
  }
 },
 "nbformat": 4,
 "nbformat_minor": 5
}
